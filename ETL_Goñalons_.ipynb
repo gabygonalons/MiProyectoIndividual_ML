{
  "cells": [
    {
      "attachments": {},
      "cell_type": "markdown",
      "metadata": {},
      "source": [
        "#Proyecto Individual N°1 - Gaby Goñalons"
      ]
    },
    {
      "attachments": {},
      "cell_type": "markdown",
      "metadata": {},
      "source": [
        "#Se importan las librerías a utilizar"
      ]
    },
    {
      "cell_type": "code",
      "execution_count": 35,
      "metadata": {
        "trusted": true
      },
      "outputs": [],
      "source": [
        "import pandas as pd\n",
        "import numpy as np\n",
        "import ast\n",
        "from datetime import datetime"
      ]
    },
    {
      "attachments": {},
      "cell_type": "markdown",
      "metadata": {},
      "source": [
        "#Utilizando Pandas, se leen los datos y se visualizan"
      ]
    },
    {
      "cell_type": "code",
      "execution_count": 4,
      "metadata": {
        "trusted": true
      },
      "outputs": [
        {
          "data": {
            "text/html": [
              "<div>\n",
              "<style scoped>\n",
              "    .dataframe tbody tr th:only-of-type {\n",
              "        vertical-align: middle;\n",
              "    }\n",
              "\n",
              "    .dataframe tbody tr th {\n",
              "        vertical-align: top;\n",
              "    }\n",
              "\n",
              "    .dataframe thead th {\n",
              "        text-align: right;\n",
              "    }\n",
              "</style>\n",
              "<table border=\"1\" class=\"dataframe\">\n",
              "  <thead>\n",
              "    <tr style=\"text-align: right;\">\n",
              "      <th></th>\n",
              "      <th>adult</th>\n",
              "      <th>belongs_to_collection</th>\n",
              "      <th>budget</th>\n",
              "      <th>genres</th>\n",
              "      <th>homepage</th>\n",
              "      <th>id</th>\n",
              "      <th>imdb_id</th>\n",
              "      <th>original_language</th>\n",
              "      <th>original_title</th>\n",
              "      <th>overview</th>\n",
              "      <th>...</th>\n",
              "      <th>release_date</th>\n",
              "      <th>revenue</th>\n",
              "      <th>runtime</th>\n",
              "      <th>spoken_languages</th>\n",
              "      <th>status</th>\n",
              "      <th>tagline</th>\n",
              "      <th>title</th>\n",
              "      <th>video</th>\n",
              "      <th>vote_average</th>\n",
              "      <th>vote_count</th>\n",
              "    </tr>\n",
              "  </thead>\n",
              "  <tbody>\n",
              "    <tr>\n",
              "      <th>0</th>\n",
              "      <td>False</td>\n",
              "      <td>{'id': 10194, 'name': 'Toy Story Collection', ...</td>\n",
              "      <td>30000000</td>\n",
              "      <td>[{'id': 16, 'name': 'Animation'}, {'id': 35, '...</td>\n",
              "      <td>http://toystory.disney.com/toy-story</td>\n",
              "      <td>862</td>\n",
              "      <td>tt0114709</td>\n",
              "      <td>en</td>\n",
              "      <td>Toy Story</td>\n",
              "      <td>Led by Woody, Andy's toys live happily in his ...</td>\n",
              "      <td>...</td>\n",
              "      <td>1995-10-30</td>\n",
              "      <td>373554033</td>\n",
              "      <td>81.0</td>\n",
              "      <td>[{'iso_639_1': 'en', 'name': 'English'}]</td>\n",
              "      <td>Released</td>\n",
              "      <td>NaN</td>\n",
              "      <td>Toy Story</td>\n",
              "      <td>False</td>\n",
              "      <td>7.7</td>\n",
              "      <td>5415</td>\n",
              "    </tr>\n",
              "    <tr>\n",
              "      <th>1</th>\n",
              "      <td>False</td>\n",
              "      <td>NaN</td>\n",
              "      <td>65000000</td>\n",
              "      <td>[{'id': 12, 'name': 'Adventure'}, {'id': 14, '...</td>\n",
              "      <td>NaN</td>\n",
              "      <td>8844</td>\n",
              "      <td>tt0113497</td>\n",
              "      <td>en</td>\n",
              "      <td>Jumanji</td>\n",
              "      <td>When siblings Judy and Peter discover an encha...</td>\n",
              "      <td>...</td>\n",
              "      <td>1995-12-15</td>\n",
              "      <td>262797249</td>\n",
              "      <td>104.0</td>\n",
              "      <td>[{'iso_639_1': 'en', 'name': 'English'}, {'iso...</td>\n",
              "      <td>Released</td>\n",
              "      <td>Roll the dice and unleash the excitement!</td>\n",
              "      <td>Jumanji</td>\n",
              "      <td>False</td>\n",
              "      <td>6.9</td>\n",
              "      <td>2413</td>\n",
              "    </tr>\n",
              "    <tr>\n",
              "      <th>2</th>\n",
              "      <td>False</td>\n",
              "      <td>{'id': 119050, 'name': 'Grumpy Old Men Collect...</td>\n",
              "      <td>0</td>\n",
              "      <td>[{'id': 10749, 'name': 'Romance'}, {'id': 35, ...</td>\n",
              "      <td>NaN</td>\n",
              "      <td>15602</td>\n",
              "      <td>tt0113228</td>\n",
              "      <td>en</td>\n",
              "      <td>Grumpier Old Men</td>\n",
              "      <td>A family wedding reignites the ancient feud be...</td>\n",
              "      <td>...</td>\n",
              "      <td>1995-12-22</td>\n",
              "      <td>0</td>\n",
              "      <td>101.0</td>\n",
              "      <td>[{'iso_639_1': 'en', 'name': 'English'}]</td>\n",
              "      <td>Released</td>\n",
              "      <td>Still Yelling. Still Fighting. Still Ready for...</td>\n",
              "      <td>Grumpier Old Men</td>\n",
              "      <td>False</td>\n",
              "      <td>6.5</td>\n",
              "      <td>92</td>\n",
              "    </tr>\n",
              "  </tbody>\n",
              "</table>\n",
              "<p>3 rows × 24 columns</p>\n",
              "</div>"
            ],
            "text/plain": [
              "   adult                              belongs_to_collection    budget   \n",
              "0  False  {'id': 10194, 'name': 'Toy Story Collection', ...  30000000  \\\n",
              "1  False                                                NaN  65000000   \n",
              "2  False  {'id': 119050, 'name': 'Grumpy Old Men Collect...         0   \n",
              "\n",
              "                                              genres   \n",
              "0  [{'id': 16, 'name': 'Animation'}, {'id': 35, '...  \\\n",
              "1  [{'id': 12, 'name': 'Adventure'}, {'id': 14, '...   \n",
              "2  [{'id': 10749, 'name': 'Romance'}, {'id': 35, ...   \n",
              "\n",
              "                               homepage     id    imdb_id original_language   \n",
              "0  http://toystory.disney.com/toy-story    862  tt0114709                en  \\\n",
              "1                                   NaN   8844  tt0113497                en   \n",
              "2                                   NaN  15602  tt0113228                en   \n",
              "\n",
              "     original_title                                           overview  ...   \n",
              "0         Toy Story  Led by Woody, Andy's toys live happily in his ...  ...  \\\n",
              "1           Jumanji  When siblings Judy and Peter discover an encha...  ...   \n",
              "2  Grumpier Old Men  A family wedding reignites the ancient feud be...  ...   \n",
              "\n",
              "  release_date    revenue runtime   \n",
              "0   1995-10-30  373554033    81.0  \\\n",
              "1   1995-12-15  262797249   104.0   \n",
              "2   1995-12-22          0   101.0   \n",
              "\n",
              "                                    spoken_languages    status   \n",
              "0           [{'iso_639_1': 'en', 'name': 'English'}]  Released  \\\n",
              "1  [{'iso_639_1': 'en', 'name': 'English'}, {'iso...  Released   \n",
              "2           [{'iso_639_1': 'en', 'name': 'English'}]  Released   \n",
              "\n",
              "                                             tagline             title  video   \n",
              "0                                                NaN         Toy Story  False  \\\n",
              "1          Roll the dice and unleash the excitement!           Jumanji  False   \n",
              "2  Still Yelling. Still Fighting. Still Ready for...  Grumpier Old Men  False   \n",
              "\n",
              "  vote_average vote_count  \n",
              "0          7.7       5415  \n",
              "1          6.9       2413  \n",
              "2          6.5         92  \n",
              "\n",
              "[3 rows x 24 columns]"
            ]
          },
          "execution_count": 4,
          "metadata": {},
          "output_type": "execute_result"
        }
      ],
      "source": [
        "# Se lee el archivo CSV especificando el tipo de datos de la columna overview como cadena de texto\n",
        "movies = pd.read_csv(\"../ETL_API/movies_dataset.csv\", dtype=str)\n",
        "movies['overview'] = movies['overview'].astype(str)\n",
        "movies.head(3)"
      ]
    },
    {
      "attachments": {},
      "cell_type": "markdown",
      "metadata": {},
      "source": [
        "#Tamaño del Dataframe"
      ]
    },
    {
      "cell_type": "code",
      "execution_count": 5,
      "metadata": {
        "trusted": true
      },
      "outputs": [
        {
          "name": "stdout",
          "output_type": "stream",
          "text": [
            "El DataFrame posee  45466 filas y  24 columnas\n"
          ]
        }
      ],
      "source": [
        "filas = movies.shape[0]\n",
        "columnas = movies.shape[1]\n",
        "print(\"El DataFrame posee \", filas, \"filas y \", columnas, \"columnas\")\n"
      ]
    },
    {
      "attachments": {},
      "cell_type": "markdown",
      "metadata": {},
      "source": [
        "#Se eliminan las columnas: video, imdb_id, adult, original_title, poster_path y home_page."
      ]
    },
    {
      "cell_type": "code",
      "execution_count": 6,
      "metadata": {
        "trusted": true
      },
      "outputs": [
        {
          "data": {
            "text/plain": [
              "(45466, 18)"
            ]
          },
          "execution_count": 6,
          "metadata": {},
          "output_type": "execute_result"
        }
      ],
      "source": [
        "#Se eliminan las columnas indicadas\n",
        "movies = movies.drop(columns=['adult', 'homepage', 'imdb_id', 'original_title', 'poster_path', 'video'])\n",
        "\n",
        "#Se calcula la cantidad de filas/columnas\n",
        "movies.shape"
      ]
    },
    {
      "attachments": {},
      "cell_type": "markdown",
      "metadata": {},
      "source": [
        "#Se trabaja con las columnas revenue y budget"
      ]
    },
    {
      "cell_type": "code",
      "execution_count": 7,
      "metadata": {
        "trusted": true
      },
      "outputs": [
        {
          "name": "stdout",
          "output_type": "stream",
          "text": [
            "La columna 'revenue' tiene 6 valores nulos.\n",
            "La columna 'budget' tiene 0 valores nulos.\n"
          ]
        }
      ],
      "source": [
        "#Se calcula la cantidad de valores nulos en la columna \"revenue\"\n",
        "num_revenue_null = movies[\"revenue\"].isnull().sum()\n",
        "\n",
        "#Se calcula la cantidad de valores nulos en la columna \"budget\"\n",
        "num_budget_null = movies[\"budget\"].isnull().sum()\n",
        "\n",
        "#Se imprimen los valores\n",
        "print(f\"La columna 'revenue' tiene {num_revenue_null} valores nulos.\")\n",
        "print(f\"La columna 'budget' tiene {num_budget_null} valores nulos.\")"
      ]
    },
    {
      "cell_type": "code",
      "execution_count": 8,
      "metadata": {
        "trusted": true
      },
      "outputs": [
        {
          "name": "stdout",
          "output_type": "stream",
          "text": [
            "La columna 'revenue' tiene 0 valores nulos.\n",
            "La columna 'budget' tiene 0 valores nulos.\n"
          ]
        }
      ],
      "source": [
        "#Se remplazan los valores nulos por ceros en los campos revenue y budget\n",
        "movies[\"revenue\"].fillna(0, inplace=True)\n",
        "movies[\"budget\"].fillna(0, inplace=True)\n",
        "\n",
        "# Se calcula la cantidad de valores nulos en la columna \"revenue\"\n",
        "num_revenue_null = movies[\"revenue\"].isnull().sum()\n",
        "\n",
        "#Se calcula la cantidad de valores nulos en la columna \"budget\"\n",
        "num_budget_null = movies[\"budget\"].isnull().sum()\n",
        "\n",
        "#Se imprimen los valores\n",
        "print(f\"La columna 'revenue' tiene {num_revenue_null} valores nulos.\")\n",
        "print(f\"La columna 'budget' tiene {num_budget_null} valores nulos.\")"
      ]
    },
    {
      "attachments": {},
      "cell_type": "markdown",
      "metadata": {},
      "source": [
        "#Se trabajo con la columna release_date"
      ]
    },
    {
      "cell_type": "code",
      "execution_count": 9,
      "metadata": {
        "trusted": true
      },
      "outputs": [
        {
          "name": "stdout",
          "output_type": "stream",
          "text": [
            "<class 'pandas.core.frame.DataFrame'>\n",
            "RangeIndex: 45466 entries, 0 to 45465\n",
            "Data columns (total 18 columns):\n",
            " #   Column                 Non-Null Count  Dtype \n",
            "---  ------                 --------------  ----- \n",
            " 0   belongs_to_collection  4494 non-null   object\n",
            " 1   budget                 45466 non-null  object\n",
            " 2   genres                 45466 non-null  object\n",
            " 3   id                     45466 non-null  object\n",
            " 4   original_language      45455 non-null  object\n",
            " 5   overview               45466 non-null  object\n",
            " 6   popularity             45461 non-null  object\n",
            " 7   production_companies   45463 non-null  object\n",
            " 8   production_countries   45463 non-null  object\n",
            " 9   release_date           45379 non-null  object\n",
            " 10  revenue                45466 non-null  object\n",
            " 11  runtime                45203 non-null  object\n",
            " 12  spoken_languages       45460 non-null  object\n",
            " 13  status                 45379 non-null  object\n",
            " 14  tagline                20412 non-null  object\n",
            " 15  title                  45460 non-null  object\n",
            " 16  vote_average           45460 non-null  object\n",
            " 17  vote_count             45460 non-null  object\n",
            "dtypes: object(18)\n",
            "memory usage: 6.2+ MB\n"
          ]
        }
      ],
      "source": [
        "# Se imprime la información del dataframe en relación a los tipos de datos\n",
        "movies.info()"
      ]
    },
    {
      "attachments": {},
      "cell_type": "markdown",
      "metadata": {},
      "source": [
        "#Se extre el año del campo release_date y se coloca en una nueva columna release_year"
      ]
    },
    {
      "cell_type": "code",
      "execution_count": 15,
      "metadata": {
        "trusted": true
      },
      "outputs": [
        {
          "name": "stdout",
          "output_type": "stream",
          "text": [
            "0        1995\n",
            "1        1995\n",
            "2        1995\n",
            "3        1995\n",
            "4        1995\n",
            "         ... \n",
            "45461       0\n",
            "45462    2011\n",
            "45463    2003\n",
            "45464    1917\n",
            "45465    2017\n",
            "Name: release_year, Length: 45466, dtype: int32\n"
          ]
        }
      ],
      "source": [
        "# Se convierte de la columna 'release_date' a datetime y se extrae del año\n",
        "movies['release_date'] = pd.to_datetime(movies['release_date'], errors='coerce')\n",
        "movies['release_year'] = movies['release_date'].dt.year.fillna(0).astype(int)\n",
        "\n",
        "# Imprimir la columna 'release_year'\n",
        "print(movies['release_year'])"
      ]
    },
    {
      "attachments": {},
      "cell_type": "markdown",
      "metadata": {},
      "source": [
        "#Se calculo la columna retorno como el cociente entre revenue y budget"
      ]
    },
    {
      "cell_type": "code",
      "execution_count": 16,
      "metadata": {
        "trusted": true
      },
      "outputs": [
        {
          "name": "stdout",
          "output_type": "stream",
          "text": [
            "0        12.45\n",
            "1         4.04\n",
            "2         0.00\n",
            "3         5.09\n",
            "4         0.00\n",
            "         ...  \n",
            "45461     0.00\n",
            "45462     0.00\n",
            "45463     0.00\n",
            "45464     0.00\n",
            "45465     0.00\n",
            "Name: return, Length: 45466, dtype: float64\n"
          ]
        }
      ],
      "source": [
        "# Se convierten los campos a numéricos\n",
        "movies['revenue'] = pd.to_numeric(movies['revenue'], errors='coerce')\n",
        "movies['budget'] = pd.to_numeric(movies['budget'], errors='coerce')\n",
        "\n",
        "# Se calcula el cociente y se asigna a la columna return redondeando a dos decimales el valor resultante\n",
        "return_values = movies['revenue'].fillna(0) / movies['budget'].fillna(0)\n",
        "return_values = return_values.replace([np.inf, -np.inf], np.nan).fillna(0)\n",
        "movies['return'] = round(return_values, 2)\n",
        "\n",
        "# Se imprime la serie return\n",
        "print(movies['return'])\n"
      ]
    },
    {
      "attachments": {},
      "cell_type": "markdown",
      "metadata": {},
      "source": [
        "##Transformaciones:\n",
        "###Campos Anidados - se desanidaron los campos utilizando la librería ast.-"
      ]
    },
    {
      "attachments": {},
      "cell_type": "markdown",
      "metadata": {},
      "source": [
        "1 - belongs_to_collection: Se trata de una lista de diccionarios, que tambíen posee valores nulos."
      ]
    },
    {
      "cell_type": "code",
      "execution_count": 17,
      "metadata": {
        "trusted": true
      },
      "outputs": [
        {
          "data": {
            "text/plain": [
              "0              Toy Story Collection\n",
              "1                                  \n",
              "2         Grumpy Old Men Collection\n",
              "3                                  \n",
              "4    Father of the Bride Collection\n",
              "Name: belongs_to_collection, dtype: object"
            ]
          },
          "execution_count": 17,
          "metadata": {},
          "output_type": "execute_result"
        }
      ],
      "source": [
        "# Función para obtener el nombre de la colección\n",
        "def get_collection_name(collection):\n",
        "    if pd.notnull(collection):\n",
        "        try:\n",
        "            collection_values = ast.literal_eval(collection)\n",
        "            if isinstance(collection_values, dict):\n",
        "                return collection_values.get('name')\n",
        "        except (SyntaxError, ValueError):\n",
        "            pass\n",
        "    return ''\n",
        "\n",
        "# Se aplica la función a la columna 'belongs_to_collection'\n",
        "movies['belongs_to_collection'] = movies['belongs_to_collection'].apply(get_collection_name)\n",
        "\n",
        "# Se muestran las primeras 5 filas del DataFrame con los datos desanidados en la columna 'belongs_to_collection'\n",
        "movies['belongs_to_collection'].head(5)\n"
      ]
    },
    {
      "attachments": {},
      "cell_type": "markdown",
      "metadata": {},
      "source": [
        "2 - genres: Se trata de una lista de diccionarios, que tambíen posee valores nulos."
      ]
    },
    {
      "cell_type": "code",
      "execution_count": 18,
      "metadata": {
        "trusted": true
      },
      "outputs": [
        {
          "data": {
            "text/plain": [
              "0     [Animation, Comedy, Family]\n",
              "1    [Adventure, Fantasy, Family]\n",
              "2               [Romance, Comedy]\n",
              "3        [Comedy, Drama, Romance]\n",
              "4                        [Comedy]\n",
              "Name: genres, dtype: object"
            ]
          },
          "execution_count": 18,
          "metadata": {},
          "output_type": "execute_result"
        }
      ],
      "source": [
        "# Función para obtener los nombres de los géneros\n",
        "def get_genre_names(genres):\n",
        "    genre_names = []\n",
        "    if pd.notnull(genres):\n",
        "        try:\n",
        "            genre_values = ast.literal_eval(genres)\n",
        "            if isinstance(genre_values, list):\n",
        "                genre_names = [genre['name'] for genre in genre_values]\n",
        "        except (SyntaxError, ValueError):\n",
        "            pass\n",
        "    return genre_names\n",
        "\n",
        "# Se aplica la función a la columna 'genres'\n",
        "movies['genres'] = movies['genres'].apply(get_genre_names)\n",
        "\n",
        "# Se muestran las primeras 5 filas del DataFrame con los datos desanidados en la columna 'genres'\n",
        "movies['genres'].head(5)\n"
      ]
    },
    {
      "attachments": {},
      "cell_type": "markdown",
      "metadata": {},
      "source": [
        "3 - production_companies: Se trata de una lista de diccionarios, que tambíen posee valores nulos."
      ]
    },
    {
      "cell_type": "code",
      "execution_count": 19,
      "metadata": {
        "trusted": true
      },
      "outputs": [
        {
          "data": {
            "text/plain": [
              "0                   Pixar Animation Studios\n",
              "1                          TriStar Pictures\n",
              "2                              Warner Bros.\n",
              "3    Twentieth Century Fox Film Corporation\n",
              "4                     Sandollar Productions\n",
              "Name: production_companies, dtype: object"
            ]
          },
          "execution_count": 19,
          "metadata": {},
          "output_type": "execute_result"
        }
      ],
      "source": [
        "# Función para obtener el nombre de la productora\n",
        "def get_production_company_name(production_companies):\n",
        "    if pd.notnull(production_companies):\n",
        "        try:\n",
        "            company_values = ast.literal_eval(production_companies)\n",
        "            if isinstance(company_values, list) and len(company_values) > 0:\n",
        "                return company_values[0].get('name')\n",
        "        except (SyntaxError, ValueError):\n",
        "            pass\n",
        "    return ''\n",
        "\n",
        "# Se aplica la función a la columna 'production_companies'\n",
        "movies['production_companies'] = movies['production_companies'].apply(get_production_company_name)\n",
        "\n",
        "# Se muestran las primeras 5 filas del DataFrame con los datos desanidados en la columna 'production_companies'\n",
        "movies['production_companies'].head(5)\n"
      ]
    },
    {
      "attachments": {},
      "cell_type": "markdown",
      "metadata": {},
      "source": [
        "4 - spoken_languages: Se trata de una lista de diccionarios, que tambíen posee valores nulos."
      ]
    },
    {
      "cell_type": "code",
      "execution_count": 20,
      "metadata": {
        "trusted": true
      },
      "outputs": [
        {
          "data": {
            "text/plain": [
              "0    English\n",
              "1    English\n",
              "2    English\n",
              "3    English\n",
              "4    English\n",
              "Name: spoken_languages, dtype: object"
            ]
          },
          "execution_count": 20,
          "metadata": {},
          "output_type": "execute_result"
        }
      ],
      "source": [
        "# Función para obtener el nombre del idioma\n",
        "def get_language_name(spoken_languages):\n",
        "    if pd.notnull(spoken_languages):\n",
        "        try:\n",
        "            language_values = ast.literal_eval(spoken_languages)\n",
        "            if isinstance(language_values, list) and len(language_values) > 0:\n",
        "                return language_values[0].get('name')\n",
        "        except (SyntaxError, ValueError):\n",
        "            pass\n",
        "    return ''\n",
        "\n",
        "# Se aplica la función a la columna 'spoken_languages'\n",
        "movies['spoken_languages'] = movies['spoken_languages'].apply(get_language_name)\n",
        "\n",
        "# Se muestran las primeras 5 filas del DataFrame con los datos desanidados en la columna 'spoken_languages'\n",
        "movies['spoken_languages'].head(5)\n"
      ]
    },
    {
      "attachments": {},
      "cell_type": "markdown",
      "metadata": {},
      "source": [
        "#Se visualiza el dataframe"
      ]
    },
    {
      "cell_type": "code",
      "execution_count": 21,
      "metadata": {
        "trusted": true
      },
      "outputs": [
        {
          "data": {
            "text/html": [
              "<div>\n",
              "<style scoped>\n",
              "    .dataframe tbody tr th:only-of-type {\n",
              "        vertical-align: middle;\n",
              "    }\n",
              "\n",
              "    .dataframe tbody tr th {\n",
              "        vertical-align: top;\n",
              "    }\n",
              "\n",
              "    .dataframe thead th {\n",
              "        text-align: right;\n",
              "    }\n",
              "</style>\n",
              "<table border=\"1\" class=\"dataframe\">\n",
              "  <thead>\n",
              "    <tr style=\"text-align: right;\">\n",
              "      <th></th>\n",
              "      <th>belongs_to_collection</th>\n",
              "      <th>budget</th>\n",
              "      <th>genres</th>\n",
              "      <th>id</th>\n",
              "      <th>original_language</th>\n",
              "      <th>overview</th>\n",
              "      <th>popularity</th>\n",
              "      <th>production_companies</th>\n",
              "      <th>production_countries</th>\n",
              "      <th>release_date</th>\n",
              "      <th>revenue</th>\n",
              "      <th>runtime</th>\n",
              "      <th>spoken_languages</th>\n",
              "      <th>status</th>\n",
              "      <th>tagline</th>\n",
              "      <th>title</th>\n",
              "      <th>vote_average</th>\n",
              "      <th>vote_count</th>\n",
              "      <th>release_year</th>\n",
              "      <th>return</th>\n",
              "    </tr>\n",
              "  </thead>\n",
              "  <tbody>\n",
              "    <tr>\n",
              "      <th>0</th>\n",
              "      <td>Toy Story Collection</td>\n",
              "      <td>30000000.0</td>\n",
              "      <td>[Animation, Comedy, Family]</td>\n",
              "      <td>862</td>\n",
              "      <td>en</td>\n",
              "      <td>Led by Woody, Andy's toys live happily in his ...</td>\n",
              "      <td>21.946943</td>\n",
              "      <td>Pixar Animation Studios</td>\n",
              "      <td>[{'iso_3166_1': 'US', 'name': 'United States o...</td>\n",
              "      <td>1995-10-30</td>\n",
              "      <td>373554033</td>\n",
              "      <td>81.0</td>\n",
              "      <td>English</td>\n",
              "      <td>Released</td>\n",
              "      <td>NaN</td>\n",
              "      <td>Toy Story</td>\n",
              "      <td>7.7</td>\n",
              "      <td>5415</td>\n",
              "      <td>1995</td>\n",
              "      <td>12.45</td>\n",
              "    </tr>\n",
              "    <tr>\n",
              "      <th>1</th>\n",
              "      <td></td>\n",
              "      <td>65000000.0</td>\n",
              "      <td>[Adventure, Fantasy, Family]</td>\n",
              "      <td>8844</td>\n",
              "      <td>en</td>\n",
              "      <td>When siblings Judy and Peter discover an encha...</td>\n",
              "      <td>17.015539</td>\n",
              "      <td>TriStar Pictures</td>\n",
              "      <td>[{'iso_3166_1': 'US', 'name': 'United States o...</td>\n",
              "      <td>1995-12-15</td>\n",
              "      <td>262797249</td>\n",
              "      <td>104.0</td>\n",
              "      <td>English</td>\n",
              "      <td>Released</td>\n",
              "      <td>Roll the dice and unleash the excitement!</td>\n",
              "      <td>Jumanji</td>\n",
              "      <td>6.9</td>\n",
              "      <td>2413</td>\n",
              "      <td>1995</td>\n",
              "      <td>4.04</td>\n",
              "    </tr>\n",
              "    <tr>\n",
              "      <th>2</th>\n",
              "      <td>Grumpy Old Men Collection</td>\n",
              "      <td>0.0</td>\n",
              "      <td>[Romance, Comedy]</td>\n",
              "      <td>15602</td>\n",
              "      <td>en</td>\n",
              "      <td>A family wedding reignites the ancient feud be...</td>\n",
              "      <td>11.7129</td>\n",
              "      <td>Warner Bros.</td>\n",
              "      <td>[{'iso_3166_1': 'US', 'name': 'United States o...</td>\n",
              "      <td>1995-12-22</td>\n",
              "      <td>0</td>\n",
              "      <td>101.0</td>\n",
              "      <td>English</td>\n",
              "      <td>Released</td>\n",
              "      <td>Still Yelling. Still Fighting. Still Ready for...</td>\n",
              "      <td>Grumpier Old Men</td>\n",
              "      <td>6.5</td>\n",
              "      <td>92</td>\n",
              "      <td>1995</td>\n",
              "      <td>0.00</td>\n",
              "    </tr>\n",
              "  </tbody>\n",
              "</table>\n",
              "</div>"
            ],
            "text/plain": [
              "       belongs_to_collection      budget                        genres     id   \n",
              "0       Toy Story Collection  30000000.0   [Animation, Comedy, Family]    862  \\\n",
              "1                             65000000.0  [Adventure, Fantasy, Family]   8844   \n",
              "2  Grumpy Old Men Collection         0.0             [Romance, Comedy]  15602   \n",
              "\n",
              "  original_language                                           overview   \n",
              "0                en  Led by Woody, Andy's toys live happily in his ...  \\\n",
              "1                en  When siblings Judy and Peter discover an encha...   \n",
              "2                en  A family wedding reignites the ancient feud be...   \n",
              "\n",
              "  popularity     production_companies   \n",
              "0  21.946943  Pixar Animation Studios  \\\n",
              "1  17.015539         TriStar Pictures   \n",
              "2    11.7129             Warner Bros.   \n",
              "\n",
              "                                production_countries release_date    revenue   \n",
              "0  [{'iso_3166_1': 'US', 'name': 'United States o...   1995-10-30  373554033  \\\n",
              "1  [{'iso_3166_1': 'US', 'name': 'United States o...   1995-12-15  262797249   \n",
              "2  [{'iso_3166_1': 'US', 'name': 'United States o...   1995-12-22          0   \n",
              "\n",
              "  runtime spoken_languages    status   \n",
              "0    81.0          English  Released  \\\n",
              "1   104.0          English  Released   \n",
              "2   101.0          English  Released   \n",
              "\n",
              "                                             tagline             title   \n",
              "0                                                NaN         Toy Story  \\\n",
              "1          Roll the dice and unleash the excitement!           Jumanji   \n",
              "2  Still Yelling. Still Fighting. Still Ready for...  Grumpier Old Men   \n",
              "\n",
              "  vote_average vote_count  release_year  return  \n",
              "0          7.7       5415          1995   12.45  \n",
              "1          6.9       2413          1995    4.04  \n",
              "2          6.5         92          1995    0.00  "
            ]
          },
          "execution_count": 21,
          "metadata": {},
          "output_type": "execute_result"
        }
      ],
      "source": [
        "movies.head(3)"
      ]
    },
    {
      "attachments": {},
      "cell_type": "markdown",
      "metadata": {},
      "source": [
        "#Se lee el archhivo credits.csv"
      ]
    },
    {
      "cell_type": "code",
      "execution_count": 23,
      "metadata": {
        "trusted": true
      },
      "outputs": [
        {
          "data": {
            "text/html": [
              "<div>\n",
              "<style scoped>\n",
              "    .dataframe tbody tr th:only-of-type {\n",
              "        vertical-align: middle;\n",
              "    }\n",
              "\n",
              "    .dataframe tbody tr th {\n",
              "        vertical-align: top;\n",
              "    }\n",
              "\n",
              "    .dataframe thead th {\n",
              "        text-align: right;\n",
              "    }\n",
              "</style>\n",
              "<table border=\"1\" class=\"dataframe\">\n",
              "  <thead>\n",
              "    <tr style=\"text-align: right;\">\n",
              "      <th></th>\n",
              "      <th>cast</th>\n",
              "      <th>crew</th>\n",
              "      <th>id</th>\n",
              "    </tr>\n",
              "  </thead>\n",
              "  <tbody>\n",
              "    <tr>\n",
              "      <th>0</th>\n",
              "      <td>[{'cast_id': 14, 'character': 'Woody (voice)',...</td>\n",
              "      <td>[{'credit_id': '52fe4284c3a36847f8024f49', 'de...</td>\n",
              "      <td>862</td>\n",
              "    </tr>\n",
              "    <tr>\n",
              "      <th>1</th>\n",
              "      <td>[{'cast_id': 1, 'character': 'Alan Parrish', '...</td>\n",
              "      <td>[{'credit_id': '52fe44bfc3a36847f80a7cd1', 'de...</td>\n",
              "      <td>8844</td>\n",
              "    </tr>\n",
              "    <tr>\n",
              "      <th>2</th>\n",
              "      <td>[{'cast_id': 2, 'character': 'Max Goldman', 'c...</td>\n",
              "      <td>[{'credit_id': '52fe466a9251416c75077a89', 'de...</td>\n",
              "      <td>15602</td>\n",
              "    </tr>\n",
              "  </tbody>\n",
              "</table>\n",
              "</div>"
            ],
            "text/plain": [
              "                                                cast   \n",
              "0  [{'cast_id': 14, 'character': 'Woody (voice)',...  \\\n",
              "1  [{'cast_id': 1, 'character': 'Alan Parrish', '...   \n",
              "2  [{'cast_id': 2, 'character': 'Max Goldman', 'c...   \n",
              "\n",
              "                                                crew     id  \n",
              "0  [{'credit_id': '52fe4284c3a36847f8024f49', 'de...    862  \n",
              "1  [{'credit_id': '52fe44bfc3a36847f80a7cd1', 'de...   8844  \n",
              "2  [{'credit_id': '52fe466a9251416c75077a89', 'de...  15602  "
            ]
          },
          "execution_count": 23,
          "metadata": {},
          "output_type": "execute_result"
        }
      ],
      "source": [
        "# Se lee el archivo CSV especificando el tipo de datos de la columna overview como cadena de texto\n",
        "credits = pd.read_csv(\"../ETL_API/credits.csv\", dtype=str)\n",
        "credits.head(3)"
      ]
    },
    {
      "attachments": {},
      "cell_type": "markdown",
      "metadata": {},
      "source": [
        "#Se extraen los Actores del campo cast"
      ]
    },
    {
      "cell_type": "code",
      "execution_count": 24,
      "metadata": {
        "trusted": true
      },
      "outputs": [
        {
          "data": {
            "text/plain": [
              "0    [Tom Hanks, Tim Allen, Don Rickles, Jim Varney...\n",
              "1    [Robin Williams, Jonathan Hyde, Kirsten Dunst,...\n",
              "2    [Walter Matthau, Jack Lemmon, Ann-Margret, Sop...\n",
              "Name: actors, dtype: object"
            ]
          },
          "execution_count": 24,
          "metadata": {},
          "output_type": "execute_result"
        }
      ],
      "source": [
        "# Se desanida el campo 'cast' y  se crear una nueva columna 'actors'\n",
        "def extract_actors(cast):\n",
        "    actors = []\n",
        "    if pd.notnull(cast):\n",
        "        try:\n",
        "            cast_values = ast.literal_eval(cast)\n",
        "            actors = [item['name'] for item in cast_values]\n",
        "        except (SyntaxError, ValueError):\n",
        "            pass\n",
        "    return actors\n",
        "\n",
        "movies['actors'] = credits['cast'].apply(extract_actors)\n",
        "\n",
        "# Se  muestran las primeras 3 filas del DataFrame 'movies' con la columna 'actors'\n",
        "movies['actors'].head(3)\n"
      ]
    },
    {
      "cell_type": "code",
      "execution_count": 25,
      "metadata": {
        "trusted": true
      },
      "outputs": [
        {
          "data": {
            "text/plain": [
              "0    [John Lasseter]\n",
              "1     [Joe Johnston]\n",
              "2    [Howard Deutch]\n",
              "Name: directors, dtype: object"
            ]
          },
          "execution_count": 25,
          "metadata": {},
          "output_type": "execute_result"
        }
      ],
      "source": [
        "# Se desanida el campo 'crew' y se crea una nueva columna 'directors'\n",
        "def extract_directors(crew):\n",
        "    directors = []\n",
        "    if pd.notnull(crew):\n",
        "        try:\n",
        "            crew_values = ast.literal_eval(crew)\n",
        "            directors = [item['name'] for item in crew_values if item['job'] == 'Director']\n",
        "        except (SyntaxError, ValueError):\n",
        "            pass\n",
        "    return directors\n",
        "\n",
        "movies['directors'] = credits['crew'].apply(extract_directors)\n",
        "\n",
        "# Se muestran las primeras 5 filas del DataFrame 'movies' con la columna 'directors'\n",
        "movies['directors'].head(3)\n"
      ]
    },
    {
      "attachments": {},
      "cell_type": "markdown",
      "metadata": {},
      "source": [
        "#Se crea el archivo del dataframe trabajado"
      ]
    },
    {
      "cell_type": "code",
      "execution_count": 26,
      "metadata": {
        "trusted": true
      },
      "outputs": [],
      "source": [
        "movies.to_csv('movies_ETL.csv', index=False)"
      ]
    },
    {
      "attachments": {},
      "cell_type": "markdown",
      "metadata": {},
      "source": [
        "#Se toma del dataframe exclusivamente los campos a utilizar por las funciones de la API a efectos de optimizar el uso del almacenamiento. Se visualizan los campos y se analiza los requeridos."
      ]
    },
    {
      "cell_type": "code",
      "execution_count": 28,
      "metadata": {},
      "outputs": [
        {
          "data": {
            "text/html": [
              "<div>\n",
              "<style scoped>\n",
              "    .dataframe tbody tr th:only-of-type {\n",
              "        vertical-align: middle;\n",
              "    }\n",
              "\n",
              "    .dataframe tbody tr th {\n",
              "        vertical-align: top;\n",
              "    }\n",
              "\n",
              "    .dataframe thead th {\n",
              "        text-align: right;\n",
              "    }\n",
              "</style>\n",
              "<table border=\"1\" class=\"dataframe\">\n",
              "  <thead>\n",
              "    <tr style=\"text-align: right;\">\n",
              "      <th></th>\n",
              "      <th>belongs_to_collection</th>\n",
              "      <th>budget</th>\n",
              "      <th>genres</th>\n",
              "      <th>id</th>\n",
              "      <th>original_language</th>\n",
              "      <th>overview</th>\n",
              "      <th>popularity</th>\n",
              "      <th>production_companies</th>\n",
              "      <th>production_countries</th>\n",
              "      <th>release_date</th>\n",
              "      <th>...</th>\n",
              "      <th>spoken_languages</th>\n",
              "      <th>status</th>\n",
              "      <th>tagline</th>\n",
              "      <th>title</th>\n",
              "      <th>vote_average</th>\n",
              "      <th>vote_count</th>\n",
              "      <th>release_year</th>\n",
              "      <th>return</th>\n",
              "      <th>actors</th>\n",
              "      <th>directors</th>\n",
              "    </tr>\n",
              "  </thead>\n",
              "  <tbody>\n",
              "    <tr>\n",
              "      <th>0</th>\n",
              "      <td>Toy Story Collection</td>\n",
              "      <td>30000000.0</td>\n",
              "      <td>[Animation, Comedy, Family]</td>\n",
              "      <td>862</td>\n",
              "      <td>en</td>\n",
              "      <td>Led by Woody, Andy's toys live happily in his ...</td>\n",
              "      <td>21.946943</td>\n",
              "      <td>Pixar Animation Studios</td>\n",
              "      <td>[{'iso_3166_1': 'US', 'name': 'United States o...</td>\n",
              "      <td>1995-10-30</td>\n",
              "      <td>...</td>\n",
              "      <td>English</td>\n",
              "      <td>Released</td>\n",
              "      <td>NaN</td>\n",
              "      <td>Toy Story</td>\n",
              "      <td>7.7</td>\n",
              "      <td>5415</td>\n",
              "      <td>1995</td>\n",
              "      <td>12.45</td>\n",
              "      <td>[Tom Hanks, Tim Allen, Don Rickles, Jim Varney...</td>\n",
              "      <td>[John Lasseter]</td>\n",
              "    </tr>\n",
              "  </tbody>\n",
              "</table>\n",
              "<p>1 rows × 22 columns</p>\n",
              "</div>"
            ],
            "text/plain": [
              "  belongs_to_collection      budget                       genres   id   \n",
              "0  Toy Story Collection  30000000.0  [Animation, Comedy, Family]  862  \\\n",
              "\n",
              "  original_language                                           overview   \n",
              "0                en  Led by Woody, Andy's toys live happily in his ...  \\\n",
              "\n",
              "  popularity     production_companies   \n",
              "0  21.946943  Pixar Animation Studios  \\\n",
              "\n",
              "                                production_countries release_date  ...   \n",
              "0  [{'iso_3166_1': 'US', 'name': 'United States o...   1995-10-30  ...  \\\n",
              "\n",
              "   spoken_languages    status tagline      title vote_average vote_count   \n",
              "0           English  Released     NaN  Toy Story          7.7       5415  \\\n",
              "\n",
              "  release_year return                                             actors   \n",
              "0         1995  12.45  [Tom Hanks, Tim Allen, Don Rickles, Jim Varney...  \\\n",
              "\n",
              "         directors  \n",
              "0  [John Lasseter]  \n",
              "\n",
              "[1 rows x 22 columns]"
            ]
          },
          "execution_count": 28,
          "metadata": {},
          "output_type": "execute_result"
        }
      ],
      "source": [
        "movies.head(1)"
      ]
    },
    {
      "attachments": {},
      "cell_type": "markdown",
      "metadata": {},
      "source": [
        "#Se eliminan las columnas inncesarias"
      ]
    },
    {
      "cell_type": "code",
      "execution_count": 30,
      "metadata": {},
      "outputs": [],
      "source": [
        "movies = movies.drop(columns=['belongs_to_collection', 'id', 'original_language', 'overview', 'production_companies', 'production_countries','spoken_languages','status','tagline'])"
      ]
    },
    {
      "attachments": {},
      "cell_type": "markdown",
      "metadata": {},
      "source": [
        "#Se muetra el dataframe resultante."
      ]
    },
    {
      "cell_type": "code",
      "execution_count": 31,
      "metadata": {},
      "outputs": [
        {
          "data": {
            "text/html": [
              "<div>\n",
              "<style scoped>\n",
              "    .dataframe tbody tr th:only-of-type {\n",
              "        vertical-align: middle;\n",
              "    }\n",
              "\n",
              "    .dataframe tbody tr th {\n",
              "        vertical-align: top;\n",
              "    }\n",
              "\n",
              "    .dataframe thead th {\n",
              "        text-align: right;\n",
              "    }\n",
              "</style>\n",
              "<table border=\"1\" class=\"dataframe\">\n",
              "  <thead>\n",
              "    <tr style=\"text-align: right;\">\n",
              "      <th></th>\n",
              "      <th>budget</th>\n",
              "      <th>genres</th>\n",
              "      <th>popularity</th>\n",
              "      <th>release_date</th>\n",
              "      <th>revenue</th>\n",
              "      <th>runtime</th>\n",
              "      <th>title</th>\n",
              "      <th>vote_average</th>\n",
              "      <th>vote_count</th>\n",
              "      <th>release_year</th>\n",
              "      <th>return</th>\n",
              "      <th>actors</th>\n",
              "      <th>directors</th>\n",
              "    </tr>\n",
              "  </thead>\n",
              "  <tbody>\n",
              "    <tr>\n",
              "      <th>0</th>\n",
              "      <td>30000000.0</td>\n",
              "      <td>[Animation, Comedy, Family]</td>\n",
              "      <td>21.946943</td>\n",
              "      <td>1995-10-30</td>\n",
              "      <td>373554033</td>\n",
              "      <td>81.0</td>\n",
              "      <td>Toy Story</td>\n",
              "      <td>7.7</td>\n",
              "      <td>5415</td>\n",
              "      <td>1995</td>\n",
              "      <td>12.45</td>\n",
              "      <td>[Tom Hanks, Tim Allen, Don Rickles, Jim Varney...</td>\n",
              "      <td>[John Lasseter]</td>\n",
              "    </tr>\n",
              "  </tbody>\n",
              "</table>\n",
              "</div>"
            ],
            "text/plain": [
              "       budget                       genres popularity release_date    revenue   \n",
              "0  30000000.0  [Animation, Comedy, Family]  21.946943   1995-10-30  373554033  \\\n",
              "\n",
              "  runtime      title vote_average vote_count  release_year  return   \n",
              "0    81.0  Toy Story          7.7       5415          1995   12.45  \\\n",
              "\n",
              "                                              actors        directors  \n",
              "0  [Tom Hanks, Tim Allen, Don Rickles, Jim Varney...  [John Lasseter]  "
            ]
          },
          "execution_count": 31,
          "metadata": {},
          "output_type": "execute_result"
        }
      ],
      "source": [
        "movies.head(1)"
      ]
    },
    {
      "cell_type": "code",
      "execution_count": 34,
      "metadata": {},
      "outputs": [
        {
          "data": {
            "text/plain": [
              "(45466, 13)"
            ]
          },
          "execution_count": 34,
          "metadata": {},
          "output_type": "execute_result"
        }
      ],
      "source": [
        "movies.shape"
      ]
    },
    {
      "attachments": {},
      "cell_type": "markdown",
      "metadata": {},
      "source": [
        "#Para evitar inconvenientes al momento de subir los archivos por las limitaciones de render se adopta el criterio de seleccionar las películas de los últimos 10 años.-"
      ]
    },
    {
      "cell_type": "code",
      "execution_count": 36,
      "metadata": {},
      "outputs": [
        {
          "data": {
            "text/plain": [
              "(7133, 13)"
            ]
          },
          "execution_count": 36,
          "metadata": {},
          "output_type": "execute_result"
        }
      ],
      "source": [
        "# Se convierte la columna \"release_date\" a tipo datetime\n",
        "movies['release_date'] = pd.to_datetime(movies['release_date'])\n",
        "\n",
        "# Se obtiene la fecha actual\n",
        "current_date = datetime.now()\n",
        "\n",
        "# Se calcula la fecha mínima para los últimos 10 años\n",
        "ten_years_ago = current_date - pd.DateOffset(years=10)\n",
        "\n",
        "# Se filtran los datos de los últimos 10 años\n",
        "movies = movies[movies['release_date'] >= ten_years_ago]\n",
        "\n",
        "# Se reinician los índices del DataFrame resultante\n",
        "movies = movies.reset_index(drop=True)\n",
        "\n",
        "movies.shape"
      ]
    },
    {
      "attachments": {},
      "cell_type": "markdown",
      "metadata": {},
      "source": [
        "#Se genera el archivo .csv a trabajar con la API"
      ]
    },
    {
      "cell_type": "code",
      "execution_count": 37,
      "metadata": {},
      "outputs": [],
      "source": [
        "movies.to_csv('movies_API.csv', index=False)"
      ]
    }
  ],
  "metadata": {
    "kernelspec": {
      "display_name": "Python 3",
      "language": "python",
      "name": "python3"
    },
    "language_info": {
      "codemirror_mode": {
        "name": "python",
        "version": 3
      },
      "file_extension": ".py",
      "mimetype": "text/x-python",
      "name": "python",
      "nbconvert_exporter": "python",
      "pygments_lexer": "ipython3",
      "version": "3.10.9"
    }
  },
  "nbformat": 4,
  "nbformat_minor": 4
}
